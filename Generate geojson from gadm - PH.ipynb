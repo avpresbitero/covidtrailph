{
 "cells": [
  {
   "cell_type": "markdown",
   "metadata": {},
   "source": [
    "Generate geojson file from COVID-19 cases using GADM data."
   ]
  },
  {
   "cell_type": "code",
   "execution_count": 1,
   "metadata": {
    "ExecuteTime": {
     "end_time": "2020-04-15T08:33:15.364390Z",
     "start_time": "2020-04-15T08:33:13.822300Z"
    }
   },
   "outputs": [],
   "source": [
    "import geopandas as gpd\n",
    "import pandas as pd\n",
    "import matplotlib.pyplot as plt\n",
    "import re"
   ]
  },
  {
   "cell_type": "code",
   "execution_count": 88,
   "metadata": {
    "ExecuteTime": {
     "end_time": "2020-04-15T10:23:44.682256Z",
     "start_time": "2020-04-15T10:23:43.486106Z"
    }
   },
   "outputs": [],
   "source": [
    "df = pd.read_excel('./data/COVID-19 Philippines.xlsx')"
   ]
  },
  {
   "cell_type": "code",
   "execution_count": 74,
   "metadata": {
    "ExecuteTime": {
     "end_time": "2020-04-15T10:18:30.769008Z",
     "start_time": "2020-04-15T10:18:30.728749Z"
    }
   },
   "outputs": [
    {
     "data": {
      "text/html": [
       "<div>\n",
       "<style scoped>\n",
       "    .dataframe tbody tr th:only-of-type {\n",
       "        vertical-align: middle;\n",
       "    }\n",
       "\n",
       "    .dataframe tbody tr th {\n",
       "        vertical-align: top;\n",
       "    }\n",
       "\n",
       "    .dataframe thead th {\n",
       "        text-align: right;\n",
       "    }\n",
       "</style>\n",
       "<table border=\"1\" class=\"dataframe\">\n",
       "  <thead>\n",
       "    <tr style=\"text-align: right;\">\n",
       "      <th></th>\n",
       "      <th>Case No.</th>\n",
       "      <th>Sex</th>\n",
       "      <th>Age</th>\n",
       "      <th>Nationality</th>\n",
       "      <th>Residence in the Philippines</th>\n",
       "      <th>History of Travel / Exposure</th>\n",
       "      <th>Travel History</th>\n",
       "      <th>Epi_Link</th>\n",
       "      <th>Date of Onset of Symptoms</th>\n",
       "      <th>Date of Admission</th>\n",
       "      <th>...</th>\n",
       "      <th>Status</th>\n",
       "      <th>Health Status</th>\n",
       "      <th>Date of Final Status (recovered/expired)</th>\n",
       "      <th>Final Diagnosis</th>\n",
       "      <th>Age Group</th>\n",
       "      <th>Location</th>\n",
       "      <th>Latitude</th>\n",
       "      <th>Longitude</th>\n",
       "      <th>Residence Lat</th>\n",
       "      <th>Residence Long</th>\n",
       "    </tr>\n",
       "  </thead>\n",
       "  <tbody>\n",
       "    <tr>\n",
       "      <th>903</th>\n",
       "      <td>PH00904</td>\n",
       "      <td>F</td>\n",
       "      <td>22</td>\n",
       "      <td>Filipino</td>\n",
       "      <td>Miagao, Iloilo</td>\n",
       "      <td>For validation</td>\n",
       "      <td>For validation</td>\n",
       "      <td>NaN</td>\n",
       "      <td>NaT</td>\n",
       "      <td>NaN</td>\n",
       "      <td>...</td>\n",
       "      <td>Admitted</td>\n",
       "      <td>For validation</td>\n",
       "      <td>NaT</td>\n",
       "      <td>NaN</td>\n",
       "      <td>21 - 30</td>\n",
       "      <td>Miagao, Iloilo</td>\n",
       "      <td>14.615867</td>\n",
       "      <td>120.980991</td>\n",
       "      <td>10.670424</td>\n",
       "      <td>122.195</td>\n",
       "    </tr>\n",
       "  </tbody>\n",
       "</table>\n",
       "<p>1 rows × 25 columns</p>\n",
       "</div>"
      ],
      "text/plain": [
       "    Case No. Sex  Age Nationality Residence in the Philippines  \\\n",
       "903  PH00904   F   22    Filipino               Miagao, Iloilo   \n",
       "\n",
       "    History of Travel / Exposure  Travel History Epi_Link  \\\n",
       "903               For validation  For validation      NaN   \n",
       "\n",
       "    Date of Onset of Symptoms Date of Admission  ...    Status  \\\n",
       "903                       NaT               NaN  ...  Admitted   \n",
       "\n",
       "      Health Status Date of Final Status (recovered/expired) Final Diagnosis  \\\n",
       "903  For validation                                      NaT             NaN   \n",
       "\n",
       "    Age Group        Location   Latitude   Longitude Residence Lat  \\\n",
       "903   21 - 30  Miagao, Iloilo  14.615867  120.980991     10.670424   \n",
       "\n",
       "    Residence Long  \n",
       "903        122.195  \n",
       "\n",
       "[1 rows x 25 columns]"
      ]
     },
     "execution_count": 74,
     "metadata": {},
     "output_type": "execute_result"
    }
   ],
   "source": [
    "df[df['Location']=='Miagao, Iloilo']"
   ]
  },
  {
   "cell_type": "code",
   "execution_count": 72,
   "metadata": {
    "ExecuteTime": {
     "end_time": "2020-04-15T10:17:39.693266Z",
     "start_time": "2020-04-15T10:17:39.675890Z"
    },
    "scrolled": true
   },
   "outputs": [
    {
     "data": {
      "text/plain": [
       "['Manila',\n",
       " 'Taguig City',\n",
       " 'Cainta, Rizal',\n",
       " 'Makati City',\n",
       " 'Pasig City',\n",
       " 'Marikina',\n",
       " 'Quezon City',\n",
       " 'San Juan',\n",
       " 'Pasay City',\n",
       " 'Imus City, Cavite',\n",
       " 'San Jose Del Monte City, Bulacan',\n",
       " 'Bais City, Negros Oriental',\n",
       " 'Libmanan, Camarines Sur',\n",
       " 'Las Piñas',\n",
       " 'Tayasan, Negros Oriental',\n",
       " 'Mandaluyong',\n",
       " 'Batangas City, Batangas',\n",
       " 'Parañaque',\n",
       " 'San Ildefonso, Bulacan',\n",
       " 'Calamba City, Laguna',\n",
       " 'Porac, Pampanga',\n",
       " 'Orani, Bataan',\n",
       " 'Lucena City, Quezon',\n",
       " 'Santa Rosa City, Laguna',\n",
       " 'Antipolo City, Rizal',\n",
       " 'Dasmariñas City, Cavite',\n",
       " 'San Fernando City, Pampanga',\n",
       " 'Floridablanca, Pampanga',\n",
       " 'Lipa City, Batangas',\n",
       " 'Lemery, Batangas',\n",
       " 'Manabo, Abra',\n",
       " 'Kalookan City',\n",
       " 'Malolos City, Bulacan',\n",
       " 'Guiguinto, Bulacan',\n",
       " 'Tarlac City, Tarlac',\n",
       " 'Pantukan, Compostela Valley',\n",
       " 'Silang, Cavite',\n",
       " 'Muntinlupa',\n",
       " 'Cotabato City, Maguindanao',\n",
       " 'Baliuag, Bulacan',\n",
       " 'Bacoor City, Cavite',\n",
       " 'Cebu City, Cebu',\n",
       " 'Taytay, Rizal',\n",
       " 'Marawi City, Lanao Del Sur',\n",
       " 'Tanza, Cavite',\n",
       " 'Valenzuela',\n",
       " 'General Trias City, Cavite',\n",
       " 'Rosario, Cavite',\n",
       " 'Tanauan City, Batangas',\n",
       " 'Caba, La Union',\n",
       " 'San Mateo, Rizal',\n",
       " 'Davao City, Davao Del Sur',\n",
       " 'Bacolod City, Negros Occidental',\n",
       " 'Puerto Princesa City, Palawan',\n",
       " 'Tuguegarao City, Cagayan',\n",
       " 'Meycauayan City, Bulacan',\n",
       " 'Guimbal, Iloilo',\n",
       " 'San Isidro, Nueva Ecija',\n",
       " 'Cabanatuan City, Nueva Ecija',\n",
       " 'Santa Maria, Bulacan',\n",
       " 'Limay, Bataan',\n",
       " 'Pateros',\n",
       " 'Rodriguez, Rizal',\n",
       " 'Binangonan, Rizal',\n",
       " 'Cabuyao City, Laguna',\n",
       " 'Bulacan, Bulacan',\n",
       " 'San Pedro City, Laguna',\n",
       " 'Biñan City, Laguna',\n",
       " 'Naic, Cavite',\n",
       " 'General Trias, Cavite',\n",
       " 'Malabon City',\n",
       " 'Calauan, Laguna',\n",
       " 'Baguio City, Benguet',\n",
       " 'Indang, Cavite',\n",
       " 'Sariaya, Quezon',\n",
       " 'Catarman, Northern Samar',\n",
       " 'Iligan City, Lanao Del Norte',\n",
       " 'General Mamerto Natividad, Nueva Ecija',\n",
       " 'Orion, Bataan',\n",
       " 'Torrijos, Marinduque',\n",
       " 'For validation',\n",
       " 'Jamindan, Capiz',\n",
       " 'Iloilo City, Iloilo',\n",
       " 'Carmona, Cavite',\n",
       " 'Cagayan De Oro City, Misamis Oriental',\n",
       " 'Lambayong, Sultan Kudarat',\n",
       " 'Zamboanga City, Zamboanga Del Sur',\n",
       " 'Bamban, Tarlac',\n",
       " 'Bacolor, Pampanga',\n",
       " 'Gerona, Tarlac',\n",
       " 'Gapan City, Nueva Ecija',\n",
       " 'Macabebe, Pampanga',\n",
       " 'San Antonio, Nueva Ecija',\n",
       " 'Paniqui, Tarlac',\n",
       " 'Tuao, Cagayan',\n",
       " 'Gattaran, Cagayan',\n",
       " 'Lumban, Laguna',\n",
       " 'Santa Cruz, Laguna',\n",
       " 'Kawit, Cavite',\n",
       " 'Urdaneta, Pangasinan',\n",
       " 'San Carlos City, Pangasinan',\n",
       " 'Bayambang, Pangasinan',\n",
       " 'Solano, Nueva Vizcaya',\n",
       " 'Barotac Nuevo, Iloilo',\n",
       " 'Echague, Isabela',\n",
       " 'Cabangan, Zambales',\n",
       " 'Alicia, Isabela',\n",
       " 'Miagao, Iloilo',\n",
       " 'Kalibo, Aklan',\n",
       " 'Olongapo City, Zambales',\n",
       " 'Bocaue, Bulacan',\n",
       " 'Malay, Aklan',\n",
       " 'Libacao, Aklan',\n",
       " 'Nasugbu, Batangas',\n",
       " 'Calapan City, Oriental Mindoro',\n",
       " 'Marilao, Bulacan',\n",
       " 'San Jose, Occidental Mindoro',\n",
       " 'Morong, Rizal',\n",
       " \"M'lang, Cotabato\",\n",
       " 'Capas, Tarlac',\n",
       " 'Mariveles, Bataan',\n",
       " 'Samal, Bataan',\n",
       " 'La Carlota City, Negros Occidental',\n",
       " 'Tayabas City, Quezon',\n",
       " 'Lambunao, Iloilo',\n",
       " 'Bayombong, Nueva Vizcaya',\n",
       " 'Camiling, Tarlac',\n",
       " 'Alfonso Castaneda, Nueva Vizcaya',\n",
       " 'Licab, Nueva Ecija',\n",
       " 'Enrique B. Magalona, Negros Occidental',\n",
       " 'Matanao, Davao Del Sur',\n",
       " 'San Miguel, Bulacan',\n",
       " 'Mendez, Cavite',\n",
       " 'Urdaneta City, Pangasinan',\n",
       " 'Marantao, Lanao Del Sur',\n",
       " 'Burgos, La Union',\n",
       " 'Digos City, Davao Del Sur',\n",
       " 'Panabo City, Davao Del Norte',\n",
       " 'Tagum City, Davao Del Norte',\n",
       " 'Mati City, Davao Oriental',\n",
       " 'Balanga City, Bataan',\n",
       " 'Davao City, Davao del Sur',\n",
       " 'Mabalacat City, Pampanga',\n",
       " 'Hernani, Eastern Samar',\n",
       " 'San Simon, Pampanga',\n",
       " 'Jimalalud, Negros Oriental',\n",
       " 'Lapu-Lapu City, Cebu',\n",
       " 'Los Baños, Laguna',\n",
       " 'Apalit, Pampanga',\n",
       " 'Mandaue City, Cebu',\n",
       " 'Labangan, Zamboanga Del Sur',\n",
       " 'La Trinidad, Benguet',\n",
       " 'Lubao, Pampanga',\n",
       " 'Concepcion, Tarlac',\n",
       " 'Cordova, Cebu',\n",
       " 'Pulilan, Bulacan',\n",
       " 'Laur, Nueva Ecija',\n",
       " 'Candelaria, Quezon',\n",
       " 'Talisay City, Cebu',\n",
       " 'Dumaguete City, Negros Oriental',\n",
       " 'Mogpog, Marinduque',\n",
       " 'Santa Rosa, Nueva Ecija',\n",
       " 'Urbiztondo, Pangasinan',\n",
       " 'Bustos, Bulacan',\n",
       " 'Ternate, Cavite',\n",
       " 'Legazpi City, Albay',\n",
       " 'Pila, Laguna',\n",
       " 'Naga City, Camarines Sur',\n",
       " \"T'Boli, South Cotabato\",\n",
       " 'Bauang, La Union',\n",
       " 'Teresa, Rizal',\n",
       " 'Candaba, Pampanga',\n",
       " 'Malasiqui, Pangasinan',\n",
       " 'San Pascual, Batangas',\n",
       " 'Lobo, Batangas',\n",
       " 'Lutayan, Sultan Kudarat',\n",
       " 'Navotas',\n",
       " 'Cabagan, Isabela',\n",
       " 'Pagadian City, Zamboanga Del Sur',\n",
       " 'Mambusao, Capiz',\n",
       " 'Lingayen, Pangasinan',\n",
       " 'San Fabian, Pangasinan',\n",
       " 'Pasacao, Camarines Sur',\n",
       " 'Naguilian, La Union',\n",
       " 'Gen. Mariano Alvarez, Cavite',\n",
       " 'Consolacion, Cebu',\n",
       " 'Alaminos, Laguna',\n",
       " 'Padre Garcia, Batangas',\n",
       " 'Calumpit, Bulacan',\n",
       " 'Cavite City, Cavite',\n",
       " 'Roxas City, Capiz',\n",
       " 'Sallapadan, Abra',\n",
       " 'Dumalinao, Zamboanga Del Sur',\n",
       " 'Altavas, Aklan',\n",
       " 'Piat, Cagayan',\n",
       " 'Calbayog City, Samar',\n",
       " 'Jimenez, Misamis Occidental',\n",
       " 'Tubod, Lanao Del Norte',\n",
       " 'Bubong, Lanao Del Sur',\n",
       " 'Datu Odin Sinsuat, Maguindanao']"
      ]
     },
     "execution_count": 72,
     "metadata": {},
     "output_type": "execute_result"
    }
   ],
   "source": [
    "list(df['Location'].unique())"
   ]
  },
  {
   "cell_type": "code",
   "execution_count": 86,
   "metadata": {
    "ExecuteTime": {
     "end_time": "2020-04-15T10:23:20.159613Z",
     "start_time": "2020-04-15T10:23:16.919671Z"
    }
   },
   "outputs": [],
   "source": [
    "cities_gpdf = gpd.GeoDataFrame.from_file(\"./data/gadm36_PHL_2.shp\")\n",
    "barangay_case_gpd = gpd.GeoDataFrame.from_file(\"./data/gadm36_PHL_3.shp\")"
   ]
  },
  {
   "cell_type": "code",
   "execution_count": 38,
   "metadata": {
    "ExecuteTime": {
     "end_time": "2020-04-15T08:41:44.605979Z",
     "start_time": "2020-04-15T08:41:44.566873Z"
    }
   },
   "outputs": [],
   "source": [
    "cities_gpdf_merged = cities_gpdf.merge(df, left_on='NAME_2', right_on='Location')"
   ]
  },
  {
   "cell_type": "code",
   "execution_count": 42,
   "metadata": {
    "ExecuteTime": {
     "end_time": "2020-04-15T08:43:01.468740Z",
     "start_time": "2020-04-15T08:43:01.387748Z"
    },
    "scrolled": true
   },
   "outputs": [
    {
     "data": {
      "text/html": [
       "<div>\n",
       "<style scoped>\n",
       "    .dataframe tbody tr th:only-of-type {\n",
       "        vertical-align: middle;\n",
       "    }\n",
       "\n",
       "    .dataframe tbody tr th {\n",
       "        vertical-align: top;\n",
       "    }\n",
       "\n",
       "    .dataframe thead th {\n",
       "        text-align: right;\n",
       "    }\n",
       "</style>\n",
       "<table border=\"1\" class=\"dataframe\">\n",
       "  <thead>\n",
       "    <tr style=\"text-align: right;\">\n",
       "      <th></th>\n",
       "      <th>Case No.</th>\n",
       "      <th>Sex</th>\n",
       "      <th>Age</th>\n",
       "      <th>Nationality</th>\n",
       "      <th>Residence in the Philippines</th>\n",
       "      <th>History of Travel / Exposure</th>\n",
       "      <th>Travel History</th>\n",
       "      <th>Epi_Link</th>\n",
       "      <th>Date of Onset of Symptoms</th>\n",
       "      <th>Date of Admission</th>\n",
       "      <th>...</th>\n",
       "      <th>Status</th>\n",
       "      <th>Health Status</th>\n",
       "      <th>Date of Final Status (recovered/expired)</th>\n",
       "      <th>Final Diagnosis</th>\n",
       "      <th>Age Group</th>\n",
       "      <th>Location</th>\n",
       "      <th>Latitude</th>\n",
       "      <th>Longitude</th>\n",
       "      <th>Residence Lat</th>\n",
       "      <th>Residence Long</th>\n",
       "    </tr>\n",
       "  </thead>\n",
       "  <tbody>\n",
       "    <tr>\n",
       "      <th>0</th>\n",
       "      <td>PH00001</td>\n",
       "      <td>F</td>\n",
       "      <td>38</td>\n",
       "      <td>Chinese</td>\n",
       "      <td>None</td>\n",
       "      <td>Yes (China); Wife of PH02</td>\n",
       "      <td>China</td>\n",
       "      <td>Wife of PH2</td>\n",
       "      <td>2020-01-21</td>\n",
       "      <td>2020-01-25 00:00:00</td>\n",
       "      <td>...</td>\n",
       "      <td>Recovered</td>\n",
       "      <td>Recovered</td>\n",
       "      <td>2020-03-15</td>\n",
       "      <td>NaN</td>\n",
       "      <td>31 - 40</td>\n",
       "      <td>Manila</td>\n",
       "      <td>14.613480</td>\n",
       "      <td>120.980950</td>\n",
       "      <td>14.598727</td>\n",
       "      <td>120.982</td>\n",
       "    </tr>\n",
       "    <tr>\n",
       "      <th>1</th>\n",
       "      <td>PH00002</td>\n",
       "      <td>M</td>\n",
       "      <td>44</td>\n",
       "      <td>Chinese</td>\n",
       "      <td>None</td>\n",
       "      <td>Yes (China); Husband of PH1</td>\n",
       "      <td>China</td>\n",
       "      <td>Husband of PH1</td>\n",
       "      <td>2020-01-18</td>\n",
       "      <td>2020-01-25 00:00:00</td>\n",
       "      <td>...</td>\n",
       "      <td>Expired</td>\n",
       "      <td>Died</td>\n",
       "      <td>2020-02-01</td>\n",
       "      <td>Severe Pneumonia</td>\n",
       "      <td>41 - 50</td>\n",
       "      <td>Manila</td>\n",
       "      <td>14.613480</td>\n",
       "      <td>120.980950</td>\n",
       "      <td>14.598727</td>\n",
       "      <td>120.982</td>\n",
       "    </tr>\n",
       "    <tr>\n",
       "      <th>2</th>\n",
       "      <td>PH00003</td>\n",
       "      <td>F</td>\n",
       "      <td>60</td>\n",
       "      <td>Chinese</td>\n",
       "      <td>None</td>\n",
       "      <td>Yes (China)</td>\n",
       "      <td>China</td>\n",
       "      <td>Traveled to Cebu and Bohol. Was already in Chi...</td>\n",
       "      <td>2020-01-21</td>\n",
       "      <td>2020-01-22 00:00:00</td>\n",
       "      <td>...</td>\n",
       "      <td>Recovered</td>\n",
       "      <td>Recovered</td>\n",
       "      <td>2020-03-15</td>\n",
       "      <td>NaN</td>\n",
       "      <td>51 - 60</td>\n",
       "      <td>Manila</td>\n",
       "      <td>14.615867</td>\n",
       "      <td>120.980991</td>\n",
       "      <td>14.598727</td>\n",
       "      <td>120.982</td>\n",
       "    </tr>\n",
       "    <tr>\n",
       "      <th>3</th>\n",
       "      <td>PH00004</td>\n",
       "      <td>M</td>\n",
       "      <td>48</td>\n",
       "      <td>Filipino</td>\n",
       "      <td>Taguig City</td>\n",
       "      <td>Yes (Japan)</td>\n",
       "      <td>Japan</td>\n",
       "      <td>NaN</td>\n",
       "      <td>2020-03-03</td>\n",
       "      <td>2020-03-06 00:00:00</td>\n",
       "      <td>...</td>\n",
       "      <td>Recovered</td>\n",
       "      <td>Recovered</td>\n",
       "      <td>2020-03-19</td>\n",
       "      <td>Asymptomatic, Negative Test Result</td>\n",
       "      <td>41 - 50</td>\n",
       "      <td>Taguig City</td>\n",
       "      <td>14.606904</td>\n",
       "      <td>121.020392</td>\n",
       "      <td>14.517274</td>\n",
       "      <td>121.05</td>\n",
       "    </tr>\n",
       "    <tr>\n",
       "      <th>4</th>\n",
       "      <td>PH00005</td>\n",
       "      <td>M</td>\n",
       "      <td>62</td>\n",
       "      <td>Filipino</td>\n",
       "      <td>Cainta, Rizal</td>\n",
       "      <td>Husband of PH06</td>\n",
       "      <td>None</td>\n",
       "      <td>Husband of PH6</td>\n",
       "      <td>2020-02-25</td>\n",
       "      <td>2020-03-05 00:00:00</td>\n",
       "      <td>...</td>\n",
       "      <td>Expired</td>\n",
       "      <td>Died</td>\n",
       "      <td>2020-03-12</td>\n",
       "      <td>Acute Respiratory Distress Syndrome, Severe pn...</td>\n",
       "      <td>61 - 70</td>\n",
       "      <td>Cainta, Rizal</td>\n",
       "      <td>14.409635</td>\n",
       "      <td>121.037425</td>\n",
       "      <td>14.586506</td>\n",
       "      <td>121.114</td>\n",
       "    </tr>\n",
       "    <tr>\n",
       "      <th>...</th>\n",
       "      <td>...</td>\n",
       "      <td>...</td>\n",
       "      <td>...</td>\n",
       "      <td>...</td>\n",
       "      <td>...</td>\n",
       "      <td>...</td>\n",
       "      <td>...</td>\n",
       "      <td>...</td>\n",
       "      <td>...</td>\n",
       "      <td>...</td>\n",
       "      <td>...</td>\n",
       "      <td>...</td>\n",
       "      <td>...</td>\n",
       "      <td>...</td>\n",
       "      <td>...</td>\n",
       "      <td>...</td>\n",
       "      <td>...</td>\n",
       "      <td>...</td>\n",
       "      <td>...</td>\n",
       "      <td>...</td>\n",
       "      <td>...</td>\n",
       "    </tr>\n",
       "    <tr>\n",
       "      <th>140</th>\n",
       "      <td>PH00141</td>\n",
       "      <td>M</td>\n",
       "      <td>63</td>\n",
       "      <td>Filipino</td>\n",
       "      <td>Parañaque</td>\n",
       "      <td>Contact of PH143</td>\n",
       "      <td>None</td>\n",
       "      <td>Contact of PH143</td>\n",
       "      <td>NaT</td>\n",
       "      <td>2020-03-16 00:00:00</td>\n",
       "      <td>...</td>\n",
       "      <td>Admitted</td>\n",
       "      <td>Asymptomatic</td>\n",
       "      <td>NaT</td>\n",
       "      <td>NaN</td>\n",
       "      <td>61 - 70</td>\n",
       "      <td>Parañaque</td>\n",
       "      <td>14.589620</td>\n",
       "      <td>121.069797</td>\n",
       "      <td>14.479309</td>\n",
       "      <td>121.019</td>\n",
       "    </tr>\n",
       "    <tr>\n",
       "      <th>141</th>\n",
       "      <td>PH00142</td>\n",
       "      <td>M</td>\n",
       "      <td>50</td>\n",
       "      <td>Filipino</td>\n",
       "      <td>Makati City</td>\n",
       "      <td>For validation</td>\n",
       "      <td>For validation</td>\n",
       "      <td>NaN</td>\n",
       "      <td>NaT</td>\n",
       "      <td>2020-03-16 00:00:00</td>\n",
       "      <td>...</td>\n",
       "      <td>Admitted</td>\n",
       "      <td>Asymptomatic</td>\n",
       "      <td>NaT</td>\n",
       "      <td>NaN</td>\n",
       "      <td>41 - 50</td>\n",
       "      <td>Makati City</td>\n",
       "      <td>14.615867</td>\n",
       "      <td>120.980991</td>\n",
       "      <td>14.554498</td>\n",
       "      <td>121.023</td>\n",
       "    </tr>\n",
       "    <tr>\n",
       "      <th>178</th>\n",
       "      <td>PH00179</td>\n",
       "      <td>M</td>\n",
       "      <td>59</td>\n",
       "      <td>Filipino</td>\n",
       "      <td>Taguig City</td>\n",
       "      <td>None</td>\n",
       "      <td>None</td>\n",
       "      <td>NaN</td>\n",
       "      <td>NaT</td>\n",
       "      <td>2020-03-11 00:00:00</td>\n",
       "      <td>...</td>\n",
       "      <td>Recovered</td>\n",
       "      <td>Recovered</td>\n",
       "      <td>NaT</td>\n",
       "      <td>Asymptomatic, Negative Test Result</td>\n",
       "      <td>51 - 60</td>\n",
       "      <td>Taguig City</td>\n",
       "      <td>14.555719</td>\n",
       "      <td>121.048688</td>\n",
       "      <td>14.517274</td>\n",
       "      <td>121.05</td>\n",
       "    </tr>\n",
       "    <tr>\n",
       "      <th>200</th>\n",
       "      <td>PH00201</td>\n",
       "      <td>M</td>\n",
       "      <td>58</td>\n",
       "      <td>Filipino</td>\n",
       "      <td>Marawi City, Lanao Del Sur</td>\n",
       "      <td>Malaysia</td>\n",
       "      <td>Malaysia</td>\n",
       "      <td>NaN</td>\n",
       "      <td>2020-03-17</td>\n",
       "      <td>2020-03-10 00:00:00</td>\n",
       "      <td>...</td>\n",
       "      <td>Expired</td>\n",
       "      <td>Died</td>\n",
       "      <td>2020-03-17</td>\n",
       "      <td>Acute Respiratory Distress Syndrome, Severe Ac...</td>\n",
       "      <td>51 - 60</td>\n",
       "      <td>Marawi City, Lanao Del Sur</td>\n",
       "      <td>8.004503</td>\n",
       "      <td>124.283897</td>\n",
       "      <td>8.009885</td>\n",
       "      <td>124.297</td>\n",
       "    </tr>\n",
       "    <tr>\n",
       "      <th>2414</th>\n",
       "      <td>PH02415</td>\n",
       "      <td>F</td>\n",
       "      <td>7</td>\n",
       "      <td>Filipino</td>\n",
       "      <td>San Fabian, Pangasinan</td>\n",
       "      <td>NaN</td>\n",
       "      <td>For validation</td>\n",
       "      <td>NaN</td>\n",
       "      <td>2020-03-25</td>\n",
       "      <td>2020-03-26 00:00:00</td>\n",
       "      <td>...</td>\n",
       "      <td>Expired</td>\n",
       "      <td>Died</td>\n",
       "      <td>2020-03-25</td>\n",
       "      <td>Hypovolemic Shock, Community-acquired Pneumoni...</td>\n",
       "      <td>0 - 10</td>\n",
       "      <td>San Fabian, Pangasinan</td>\n",
       "      <td>14.615867</td>\n",
       "      <td>120.980991</td>\n",
       "      <td>16.142050</td>\n",
       "      <td>120.445</td>\n",
       "    </tr>\n",
       "  </tbody>\n",
       "</table>\n",
       "<p>144 rows × 25 columns</p>\n",
       "</div>"
      ],
      "text/plain": [
       "     Case No. Sex  Age Nationality Residence in the Philippines  \\\n",
       "0     PH00001   F   38     Chinese                         None   \n",
       "1     PH00002   M   44     Chinese                         None   \n",
       "2     PH00003   F   60     Chinese                         None   \n",
       "3     PH00004   M   48    Filipino                  Taguig City   \n",
       "4     PH00005   M   62    Filipino                Cainta, Rizal   \n",
       "...       ...  ..  ...         ...                          ...   \n",
       "140   PH00141   M   63    Filipino                    Parañaque   \n",
       "141   PH00142   M   50    Filipino                  Makati City   \n",
       "178   PH00179   M   59    Filipino                  Taguig City   \n",
       "200   PH00201   M   58    Filipino   Marawi City, Lanao Del Sur   \n",
       "2414  PH02415   F    7    Filipino       San Fabian, Pangasinan   \n",
       "\n",
       "     History of Travel / Exposure  Travel History  \\\n",
       "0       Yes (China); Wife of PH02           China   \n",
       "1     Yes (China); Husband of PH1           China   \n",
       "2                     Yes (China)           China   \n",
       "3                     Yes (Japan)           Japan   \n",
       "4                 Husband of PH06            None   \n",
       "...                           ...             ...   \n",
       "140              Contact of PH143            None   \n",
       "141                For validation  For validation   \n",
       "178                          None            None   \n",
       "200                      Malaysia        Malaysia   \n",
       "2414                          NaN  For validation   \n",
       "\n",
       "                                               Epi_Link  \\\n",
       "0                                           Wife of PH2   \n",
       "1                                        Husband of PH1   \n",
       "2     Traveled to Cebu and Bohol. Was already in Chi...   \n",
       "3                                                   NaN   \n",
       "4                                        Husband of PH6   \n",
       "...                                                 ...   \n",
       "140                                    Contact of PH143   \n",
       "141                                                 NaN   \n",
       "178                                                 NaN   \n",
       "200                                                 NaN   \n",
       "2414                                                NaN   \n",
       "\n",
       "     Date of Onset of Symptoms    Date of Admission  ...     Status  \\\n",
       "0                   2020-01-21  2020-01-25 00:00:00  ...  Recovered   \n",
       "1                   2020-01-18  2020-01-25 00:00:00  ...    Expired   \n",
       "2                   2020-01-21  2020-01-22 00:00:00  ...  Recovered   \n",
       "3                   2020-03-03  2020-03-06 00:00:00  ...  Recovered   \n",
       "4                   2020-02-25  2020-03-05 00:00:00  ...    Expired   \n",
       "...                        ...                  ...  ...        ...   \n",
       "140                        NaT  2020-03-16 00:00:00  ...   Admitted   \n",
       "141                        NaT  2020-03-16 00:00:00  ...   Admitted   \n",
       "178                        NaT  2020-03-11 00:00:00  ...  Recovered   \n",
       "200                 2020-03-17  2020-03-10 00:00:00  ...    Expired   \n",
       "2414                2020-03-25  2020-03-26 00:00:00  ...    Expired   \n",
       "\n",
       "     Health Status Date of Final Status (recovered/expired)  \\\n",
       "0        Recovered                               2020-03-15   \n",
       "1             Died                               2020-02-01   \n",
       "2        Recovered                               2020-03-15   \n",
       "3        Recovered                               2020-03-19   \n",
       "4             Died                               2020-03-12   \n",
       "...            ...                                      ...   \n",
       "140   Asymptomatic                                      NaT   \n",
       "141   Asymptomatic                                      NaT   \n",
       "178      Recovered                                      NaT   \n",
       "200           Died                               2020-03-17   \n",
       "2414          Died                               2020-03-25   \n",
       "\n",
       "                                        Final Diagnosis Age Group  \\\n",
       "0                                                   NaN   31 - 40   \n",
       "1                                      Severe Pneumonia   41 - 50   \n",
       "2                                                   NaN   51 - 60   \n",
       "3                    Asymptomatic, Negative Test Result   41 - 50   \n",
       "4     Acute Respiratory Distress Syndrome, Severe pn...   61 - 70   \n",
       "...                                                 ...       ...   \n",
       "140                                                 NaN   61 - 70   \n",
       "141                                                 NaN   41 - 50   \n",
       "178                  Asymptomatic, Negative Test Result   51 - 60   \n",
       "200   Acute Respiratory Distress Syndrome, Severe Ac...   51 - 60   \n",
       "2414  Hypovolemic Shock, Community-acquired Pneumoni...    0 - 10   \n",
       "\n",
       "                        Location   Latitude   Longitude Residence Lat  \\\n",
       "0                         Manila  14.613480  120.980950     14.598727   \n",
       "1                         Manila  14.613480  120.980950     14.598727   \n",
       "2                         Manila  14.615867  120.980991     14.598727   \n",
       "3                    Taguig City  14.606904  121.020392     14.517274   \n",
       "4                  Cainta, Rizal  14.409635  121.037425     14.586506   \n",
       "...                          ...        ...         ...           ...   \n",
       "140                    Parañaque  14.589620  121.069797     14.479309   \n",
       "141                  Makati City  14.615867  120.980991     14.554498   \n",
       "178                  Taguig City  14.555719  121.048688     14.517274   \n",
       "200   Marawi City, Lanao Del Sur   8.004503  124.283897      8.009885   \n",
       "2414      San Fabian, Pangasinan  14.615867  120.980991     16.142050   \n",
       "\n",
       "     Residence Long  \n",
       "0           120.982  \n",
       "1           120.982  \n",
       "2           120.982  \n",
       "3            121.05  \n",
       "4           121.114  \n",
       "...             ...  \n",
       "140         121.019  \n",
       "141         121.023  \n",
       "178          121.05  \n",
       "200         124.297  \n",
       "2414        120.445  \n",
       "\n",
       "[144 rows x 25 columns]"
      ]
     },
     "execution_count": 42,
     "metadata": {},
     "output_type": "execute_result"
    }
   ],
   "source": [
    "df_clean = df.dropna(subset=['Date of Admission'])\n",
    "df_clean"
   ]
  },
  {
   "cell_type": "code",
   "execution_count": 43,
   "metadata": {
    "ExecuteTime": {
     "end_time": "2020-04-15T08:43:22.775092Z",
     "start_time": "2020-04-15T08:43:22.752500Z"
    },
    "scrolled": true
   },
   "outputs": [
    {
     "name": "stderr",
     "output_type": "stream",
     "text": [
      "/home/lpresbitero/.conda/envs/geo/lib/python3.7/site-packages/ipykernel_launcher.py:2: SettingWithCopyWarning: \n",
      "A value is trying to be set on a copy of a slice from a DataFrame.\n",
      "Try using .loc[row_indexer,col_indexer] = value instead\n",
      "\n",
      "See the caveats in the documentation: https://pandas.pydata.org/pandas-docs/stable/user_guide/indexing.html#returning-a-view-versus-a-copy\n",
      "  \n"
     ]
    }
   ],
   "source": [
    "import numpy as np \n",
    "df_clean['Date of Admission']= df_clean['Date of Admission'].apply(lambda x: x if type(x)!=str else np.nan)\n",
    "df_clean = df_clean.dropna(subset=['Date of Admission'])"
   ]
  },
  {
   "cell_type": "markdown",
   "metadata": {},
   "source": [
    "## First Case"
   ]
  },
  {
   "cell_type": "code",
   "execution_count": 7,
   "metadata": {
    "ExecuteTime": {
     "end_time": "2020-04-15T08:33:33.085583Z",
     "start_time": "2020-04-15T08:33:33.040518Z"
    }
   },
   "outputs": [
    {
     "data": {
      "text/html": [
       "<div>\n",
       "<style scoped>\n",
       "    .dataframe tbody tr th:only-of-type {\n",
       "        vertical-align: middle;\n",
       "    }\n",
       "\n",
       "    .dataframe tbody tr th {\n",
       "        vertical-align: top;\n",
       "    }\n",
       "\n",
       "    .dataframe thead th {\n",
       "        text-align: right;\n",
       "    }\n",
       "</style>\n",
       "<table border=\"1\" class=\"dataframe\">\n",
       "  <thead>\n",
       "    <tr style=\"text-align: right;\">\n",
       "      <th></th>\n",
       "      <th>Case No.</th>\n",
       "      <th>Sex</th>\n",
       "      <th>Age</th>\n",
       "      <th>Nationality</th>\n",
       "      <th>Residence in the Philippines</th>\n",
       "      <th>History of Travel / Exposure</th>\n",
       "      <th>Travel History</th>\n",
       "      <th>Epi_Link</th>\n",
       "      <th>Date of Onset of Symptoms</th>\n",
       "      <th>Date of Admission</th>\n",
       "      <th>...</th>\n",
       "      <th>Status</th>\n",
       "      <th>Health Status</th>\n",
       "      <th>Date of Final Status (recovered/expired)</th>\n",
       "      <th>Final Diagnosis</th>\n",
       "      <th>Age Group</th>\n",
       "      <th>Location</th>\n",
       "      <th>Latitude</th>\n",
       "      <th>Longitude</th>\n",
       "      <th>Residence Lat</th>\n",
       "      <th>Residence Long</th>\n",
       "    </tr>\n",
       "  </thead>\n",
       "  <tbody>\n",
       "    <tr>\n",
       "      <th>0</th>\n",
       "      <td>PH00001</td>\n",
       "      <td>F</td>\n",
       "      <td>38</td>\n",
       "      <td>Chinese</td>\n",
       "      <td>None</td>\n",
       "      <td>Yes (China); Wife of PH02</td>\n",
       "      <td>China</td>\n",
       "      <td>Wife of PH2</td>\n",
       "      <td>2020-01-21</td>\n",
       "      <td>2020-01-25 00:00:00</td>\n",
       "      <td>...</td>\n",
       "      <td>Recovered</td>\n",
       "      <td>Recovered</td>\n",
       "      <td>2020-03-15</td>\n",
       "      <td>NaN</td>\n",
       "      <td>31 - 40</td>\n",
       "      <td>Manila</td>\n",
       "      <td>14.61348</td>\n",
       "      <td>120.98095</td>\n",
       "      <td>14.598727</td>\n",
       "      <td>120.982</td>\n",
       "    </tr>\n",
       "  </tbody>\n",
       "</table>\n",
       "<p>1 rows × 25 columns</p>\n",
       "</div>"
      ],
      "text/plain": [
       "  Case No. Sex  Age Nationality Residence in the Philippines  \\\n",
       "0  PH00001   F   38     Chinese                         None   \n",
       "\n",
       "  History of Travel / Exposure Travel History     Epi_Link  \\\n",
       "0    Yes (China); Wife of PH02          China  Wife of PH2   \n",
       "\n",
       "  Date of Onset of Symptoms    Date of Admission  ...     Status  \\\n",
       "0                2020-01-21  2020-01-25 00:00:00  ...  Recovered   \n",
       "\n",
       "  Health Status Date of Final Status (recovered/expired) Final Diagnosis  \\\n",
       "0     Recovered                               2020-03-15             NaN   \n",
       "\n",
       "  Age Group Location  Latitude  Longitude Residence Lat Residence Long  \n",
       "0   31 - 40   Manila  14.61348  120.98095     14.598727        120.982  \n",
       "\n",
       "[1 rows x 25 columns]"
      ]
     },
     "execution_count": 7,
     "metadata": {},
     "output_type": "execute_result"
    }
   ],
   "source": [
    "case1 = df[df['Case No.'] == 'PH00001']\n",
    "case1"
   ]
  },
  {
   "cell_type": "code",
   "execution_count": 9,
   "metadata": {
    "ExecuteTime": {
     "end_time": "2020-04-15T08:34:03.739233Z",
     "start_time": "2020-04-15T08:34:03.632968Z"
    }
   },
   "outputs": [],
   "source": [
    "case1_geo = cities_gpdf.merge(case1, left_on='NAME_2', right_on='Location')\n",
    "case1_merged = case1_geo[['Latitude', 'Longitude']]\n",
    "case1_gdf = gpd.GeoDataFrame(case1_merged, geometry=gpd.points_from_xy(case1_merged.Longitude, case1_merged.Latitude))\n",
    "case1_gdf.to_file(\"./data/case1_gdf_ph.geojson\", driver='GeoJSON')"
   ]
  },
  {
   "cell_type": "markdown",
   "metadata": {},
   "source": [
    "## Third Case\n",
    "Cebu City"
   ]
  },
  {
   "cell_type": "code",
   "execution_count": 66,
   "metadata": {
    "ExecuteTime": {
     "end_time": "2020-04-15T09:25:17.021877Z",
     "start_time": "2020-04-15T09:25:16.989074Z"
    },
    "scrolled": true
   },
   "outputs": [],
   "source": [
    "case3 = pd.DataFrame({'Longitude':123.89322, 'Latitude': 10.31072}, index=[0])\n",
    "case3_gdf = gpd.GeoDataFrame(case3, geometry=gpd.points_from_xy(case3.Longitude, case3.Latitude))\n",
    "case3_gdf.to_file(\"./data/case3_gdf_cebu_ph.geojson\", driver='GeoJSON')"
   ]
  },
  {
   "cell_type": "code",
   "execution_count": 67,
   "metadata": {
    "ExecuteTime": {
     "end_time": "2020-04-15T09:25:17.467458Z",
     "start_time": "2020-04-15T09:25:17.441382Z"
    }
   },
   "outputs": [],
   "source": [
    "case3 = pd.DataFrame({'Longitude':124.21558, 'Latitude': 9.88538}, index=[0])\n",
    "case3_gdf = gpd.GeoDataFrame(case3, geometry=gpd.points_from_xy(case3.Longitude, case3.Latitude))\n",
    "case3_gdf.to_file(\"./data/case3_gdf_bohol_ph.geojson\", driver='GeoJSON')"
   ]
  },
  {
   "cell_type": "markdown",
   "metadata": {},
   "source": [
    "## First Death \n",
    "February 2"
   ]
  },
  {
   "cell_type": "code",
   "execution_count": 11,
   "metadata": {
    "ExecuteTime": {
     "end_time": "2020-04-15T08:34:19.568320Z",
     "start_time": "2020-04-15T08:34:19.561068Z"
    }
   },
   "outputs": [],
   "source": [
    "from datetime import datetime\n",
    "\n",
    "startdate = datetime.strptime('Jan 1 2020', '%b %d %Y')\n",
    "enddate = datetime.strptime('Feb 2 2020', '%b %d %Y')"
   ]
  },
  {
   "cell_type": "code",
   "execution_count": 22,
   "metadata": {
    "ExecuteTime": {
     "end_time": "2020-04-15T08:37:49.550890Z",
     "start_time": "2020-04-15T08:37:49.541285Z"
    }
   },
   "outputs": [
    {
     "data": {
      "text/plain": [
       "array(['San Juan', 'Kalookan City', 'Las Piñas', 'Makati City',\n",
       "       'Mandaluyong', 'Manila', 'Marikina', 'Muntinlupa', 'Navotas',\n",
       "       'Parañaque', 'Pasay City', 'Pasig City', 'Pateros', 'Quezon City',\n",
       "       'Valenzuela'], dtype=object)"
      ]
     },
     "execution_count": 22,
     "metadata": {},
     "output_type": "execute_result"
    }
   ],
   "source": [
    "cities_gpdf_merged.Location.unique()"
   ]
  },
  {
   "cell_type": "code",
   "execution_count": 44,
   "metadata": {
    "ExecuteTime": {
     "end_time": "2020-04-15T08:43:27.255792Z",
     "start_time": "2020-04-15T08:43:27.246671Z"
    }
   },
   "outputs": [],
   "source": [
    "case2 = df_clean[df_clean['Date of Admission'] < enddate]"
   ]
  },
  {
   "cell_type": "code",
   "execution_count": 45,
   "metadata": {
    "ExecuteTime": {
     "end_time": "2020-04-15T08:43:50.957506Z",
     "start_time": "2020-04-15T08:43:50.935767Z"
    },
    "scrolled": true
   },
   "outputs": [],
   "source": [
    "case2_geo = cities_gpdf.merge(case2, left_on='NAME_2', right_on='Location')\n",
    "case2_merged = case2_geo[['Latitude', 'Longitude']]\n",
    "case2_gdf = gpd.GeoDataFrame(case2_merged, geometry=gpd.points_from_xy(case2_merged.Longitude, case2_merged.Latitude))"
   ]
  },
  {
   "cell_type": "markdown",
   "metadata": {},
   "source": [
    "## March 5 Mark"
   ]
  },
  {
   "cell_type": "code",
   "execution_count": 47,
   "metadata": {
    "ExecuteTime": {
     "end_time": "2020-04-15T08:44:14.290184Z",
     "start_time": "2020-04-15T08:44:14.285495Z"
    }
   },
   "outputs": [],
   "source": [
    "enddate_march5 = datetime.strptime('Mar 5 2020', '%b %d %Y')"
   ]
  },
  {
   "cell_type": "code",
   "execution_count": 48,
   "metadata": {
    "ExecuteTime": {
     "end_time": "2020-04-15T08:45:52.481343Z",
     "start_time": "2020-04-15T08:45:51.921061Z"
    },
    "scrolled": true
   },
   "outputs": [
    {
     "name": "stderr",
     "output_type": "stream",
     "text": [
      "/home/lpresbitero/.conda/envs/geo/lib/python3.7/site-packages/geopandas/tools/sjoin.py:61: UserWarning: CRS of frames being joined does not match!(epsg:4326 != None)\n",
      "  \"(%s != %s)\" % (left_df.crs, right_df.crs)\n"
     ]
    }
   ],
   "source": [
    "case4 = df_clean[df_clean['Date of Admission'] < enddate_march5]\n",
    "case4_geo = cities_gpdf.merge(case4, left_on='NAME_2', right_on='Location')\n",
    "case4_merged = case2_geo[['Latitude', 'Longitude']]\n",
    "case4_gdf = gpd.GeoDataFrame(case4_merged, geometry=gpd.points_from_xy(case4_merged.Longitude, case4_merged.Latitude))\n",
    "case4_gdf_polygon = gpd.sjoin(barangay_case_gpd, case4_gdf, op='intersects')\n",
    "case4_grouped = case4_gdf_polygon.groupby('NAME_3').size().reset_index(name=\"Cases\")\n",
    "case4_merged_cases = case4_gdf_polygon.merge(case4_grouped, on='NAME_3',how='left')\n",
    "case4_merged_cases.to_file(\"./data/case4_gdf_polygon_ph.geojson\", driver='GeoJSON')"
   ]
  },
  {
   "cell_type": "markdown",
   "metadata": {},
   "source": [
    "As Point in Taguig"
   ]
  },
  {
   "cell_type": "code",
   "execution_count": 49,
   "metadata": {
    "ExecuteTime": {
     "end_time": "2020-04-15T08:46:18.057315Z",
     "start_time": "2020-04-15T08:46:18.038830Z"
    }
   },
   "outputs": [],
   "source": [
    "case4_merged = pd.DataFrame({'Longitude':121.06586, 'Latitude': 14.52810}, index=[0])\n",
    "case4_gdf = gpd.GeoDataFrame(case4_merged, geometry=gpd.points_from_xy(case4_merged.Longitude, case4_merged.Latitude))\n",
    "case4_gdf\n",
    "case4_gdf.to_file(\"./data/case4_gdf_ph.geojson\", driver='GeoJSON')"
   ]
  },
  {
   "cell_type": "markdown",
   "metadata": {},
   "source": [
    "## First Case of Local Transmission\n",
    "case 5"
   ]
  },
  {
   "cell_type": "code",
   "execution_count": 50,
   "metadata": {
    "ExecuteTime": {
     "end_time": "2020-04-15T08:46:22.021698Z",
     "start_time": "2020-04-15T08:46:22.014761Z"
    }
   },
   "outputs": [],
   "source": [
    "enddate_march6 = datetime.strptime('Mar 6 2020', '%b %d %Y')"
   ]
  },
  {
   "cell_type": "code",
   "execution_count": 52,
   "metadata": {
    "ExecuteTime": {
     "end_time": "2020-04-15T08:46:52.642731Z",
     "start_time": "2020-04-15T08:46:52.022259Z"
    },
    "scrolled": true
   },
   "outputs": [
    {
     "name": "stderr",
     "output_type": "stream",
     "text": [
      "/home/lpresbitero/.conda/envs/geo/lib/python3.7/site-packages/geopandas/tools/sjoin.py:61: UserWarning: CRS of frames being joined does not match!(epsg:4326 != None)\n",
      "  \"(%s != %s)\" % (left_df.crs, right_df.crs)\n"
     ]
    }
   ],
   "source": [
    "case5 = df_clean[df_clean['Date of Admission'] < enddate_march6]\n",
    "case5_geo = cities_gpdf.merge(case5, left_on='NAME_2', right_on='Location')\n",
    "case5_merged = case5_geo[['Latitude', 'Longitude']]\n",
    "case5_gdf = gpd.GeoDataFrame(case5_merged, geometry=gpd.points_from_xy(case5_merged.Longitude, case5_merged.Latitude))\n",
    "case5_gdf_polygon = gpd.sjoin(barangay_case_gpd, case5_gdf, op='intersects')\n",
    "case5_grouped = case5_gdf_polygon.groupby('NAME_3').size().reset_index(name=\"Cases\")\n",
    "case5_merged_cases = case5_gdf_polygon.merge(case5_grouped, on='NAME_3',how='left')\n",
    "case5_merged_cases.to_file(\"./data/case5_gdf_polygon_ph.geojson\", driver='GeoJSON')"
   ]
  },
  {
   "cell_type": "markdown",
   "metadata": {},
   "source": [
    "As point"
   ]
  },
  {
   "cell_type": "code",
   "execution_count": 53,
   "metadata": {
    "ExecuteTime": {
     "end_time": "2020-04-15T08:47:00.550992Z",
     "start_time": "2020-04-15T08:47:00.524395Z"
    }
   },
   "outputs": [],
   "source": [
    "case5_merged = pd.DataFrame({'Longitude':121.12150, 'Latitude': 14.59878}, index=[0])\n",
    "case5_gdf = gpd.GeoDataFrame(case5_merged, geometry=gpd.points_from_xy(case5_merged.Longitude, case5_merged.Latitude))\n",
    "case5_gdf.to_file(\"./data/case5_gdf_ph.geojson\", driver='GeoJSON')"
   ]
  },
  {
   "cell_type": "markdown",
   "metadata": {},
   "source": [
    "## March 9"
   ]
  },
  {
   "cell_type": "code",
   "execution_count": 61,
   "metadata": {
    "ExecuteTime": {
     "end_time": "2020-04-15T08:54:23.789351Z",
     "start_time": "2020-04-15T08:54:23.760443Z"
    }
   },
   "outputs": [],
   "source": [
    "case20 = pd.DataFrame({'Longitude':120.92835, 'Latitude': 14.41464}, index=[0])\n",
    "case20_gdf = gpd.GeoDataFrame(case20, geometry=gpd.points_from_xy(case20.Longitude, case20.Latitude))\n",
    "case20_gdf.to_file(\"./data/case20_gdf_ph.geojson\", driver='GeoJSON')"
   ]
  },
  {
   "cell_type": "code",
   "execution_count": 62,
   "metadata": {
    "ExecuteTime": {
     "end_time": "2020-04-15T08:55:30.651165Z",
     "start_time": "2020-04-15T08:55:30.629321Z"
    }
   },
   "outputs": [],
   "source": [
    "case21 = pd.DataFrame({'Longitude':121.04574, 'Latitude': 14.81408}, index=[0])\n",
    "case21_gdf = gpd.GeoDataFrame(case21, geometry=gpd.points_from_xy(case21.Longitude, case21.Latitude))\n",
    "case21_gdf.to_file(\"./data/case21_gdf_ph.geojson\", driver='GeoJSON')"
   ]
  },
  {
   "cell_type": "markdown",
   "metadata": {},
   "source": [
    "## March 10"
   ]
  },
  {
   "cell_type": "code",
   "execution_count": 63,
   "metadata": {
    "ExecuteTime": {
     "end_time": "2020-04-15T08:56:34.156303Z",
     "start_time": "2020-04-15T08:56:34.105083Z"
    }
   },
   "outputs": [],
   "source": [
    "case49 = pd.DataFrame({'Longitude':121.05254, 'Latitude': 13.75351}, index=[0])\n",
    "case49_gdf = gpd.GeoDataFrame(case49, geometry=gpd.points_from_xy(case49.Longitude, case49.Latitude))\n",
    "case49_gdf.to_file(\"./data/case49_gdf_ph.geojson\", driver='GeoJSON')"
   ]
  },
  {
   "cell_type": "markdown",
   "metadata": {},
   "source": [
    "## March 11"
   ]
  },
  {
   "cell_type": "code",
   "execution_count": 64,
   "metadata": {
    "ExecuteTime": {
     "end_time": "2020-04-15T08:58:45.260311Z",
     "start_time": "2020-04-15T08:58:45.230955Z"
    }
   },
   "outputs": [],
   "source": [
    "case39 = pd.DataFrame({'Longitude':123.00538, 'Latitude': 9.56623}, index=[0])\n",
    "case39_gdf = gpd.GeoDataFrame(case39, geometry=gpd.points_from_xy(case39.Longitude, case39.Latitude))\n",
    "case39_gdf.to_file(\"./data/case39_gdf_ph.geojson\", driver='GeoJSON')"
   ]
  },
  {
   "cell_type": "code",
   "execution_count": 65,
   "metadata": {
    "ExecuteTime": {
     "end_time": "2020-04-15T08:59:41.919963Z",
     "start_time": "2020-04-15T08:59:41.895472Z"
    }
   },
   "outputs": [],
   "source": [
    "case40 = pd.DataFrame({'Longitude':124.39099, 'Latitude': 7.84750}, index=[0])\n",
    "case40_gdf = gpd.GeoDataFrame(case40, geometry=gpd.points_from_xy(case40.Longitude, case40.Latitude))\n",
    "case40_gdf.to_file(\"./data/case40_gdf_ph.geojson\", driver='GeoJSON')"
   ]
  },
  {
   "cell_type": "markdown",
   "metadata": {},
   "source": [
    "## 1000th mark\n",
    "March 28"
   ]
  },
  {
   "cell_type": "code",
   "execution_count": 54,
   "metadata": {
    "ExecuteTime": {
     "end_time": "2020-04-15T08:47:10.649884Z",
     "start_time": "2020-04-15T08:47:10.641238Z"
    }
   },
   "outputs": [],
   "source": [
    "enddate_march28 = datetime.strptime('Mar 28 2020', '%b %d %Y')"
   ]
  },
  {
   "cell_type": "markdown",
   "metadata": {},
   "source": [
    "Points"
   ]
  },
  {
   "cell_type": "code",
   "execution_count": 133,
   "metadata": {
    "ExecuteTime": {
     "end_time": "2020-04-15T12:32:21.905627Z",
     "start_time": "2020-04-15T12:32:21.840154Z"
    }
   },
   "outputs": [
    {
     "name": "stderr",
     "output_type": "stream",
     "text": [
      "/home/lpresbitero/.conda/envs/geo/lib/python3.7/site-packages/ipykernel_launcher.py:1: SettingWithCopyWarning: \n",
      "A value is trying to be set on a copy of a slice from a DataFrame.\n",
      "Try using .loc[row_indexer,col_indexer] = value instead\n",
      "\n",
      "See the caveats in the documentation: https://pandas.pydata.org/pandas-docs/stable/user_guide/indexing.html#returning-a-view-versus-a-copy\n",
      "  \"\"\"Entry point for launching an IPython kernel.\n",
      "/home/lpresbitero/.conda/envs/geo/lib/python3.7/site-packages/ipykernel_launcher.py:2: SettingWithCopyWarning: \n",
      "A value is trying to be set on a copy of a slice from a DataFrame.\n",
      "Try using .loc[row_indexer,col_indexer] = value instead\n",
      "\n",
      "See the caveats in the documentation: https://pandas.pydata.org/pandas-docs/stable/user_guide/indexing.html#returning-a-view-versus-a-copy\n",
      "  \n"
     ]
    }
   ],
   "source": [
    "df_clean['Residence Lat'] = df_clean['Residence Lat'].astype(float)\n",
    "df_clean['Residence Long'] = df_clean['Residence Long'].apply(lambda x: x if type(x)==float else float(re.sub(r\"[,]*\", \"\", x)))\n",
    "case1k = df_clean[df_clean['Date of Admission'] < enddate_march28]\n",
    "case1k_merged = case1k[['Residence Lat', 'Residence Long']]\n",
    "case1k_grouped = case1k_merged.groupby(['Residence Long', 'Residence Lat']).size().reset_index(name=\"Cases\")\n",
    "case1k_gdf = gpd.GeoDataFrame(case1k_grouped, geometry=gpd.points_from_xy(case1k_grouped['Residence Long'], case1k_grouped['Residence Lat']))\n",
    "case1k_gdf.to_file(\"./data/case1k_gdf_ph.geojson\", driver='GeoJSON')"
   ]
  },
  {
   "cell_type": "markdown",
   "metadata": {},
   "source": [
    "Gradient"
   ]
  },
  {
   "cell_type": "code",
   "execution_count": 57,
   "metadata": {
    "ExecuteTime": {
     "end_time": "2020-04-15T08:48:23.212240Z",
     "start_time": "2020-04-15T08:48:23.057284Z"
    }
   },
   "outputs": [],
   "source": [
    "# case1k_grouped_gradient = case1k_geo.groupby('NAME_2').size().reset_index(name=\"Cases\")\n",
    "case1k_grouped_gradient = gpd.GeoDataFrame(case1k, geometry=gpd.points_from_xy(now['Residence Long'], now['Residence Lat']))\n",
    "case1k_merged_cases_gradient = gpd.sjoin(cities_gpdf, case1k_grouped_gradient, how=\"inner\")\n",
    "case1k_merged_cases_gradient.to_file(\"./data/case1k_gdf_gradient_ph.geojson\", driver='GeoJSON')"
   ]
  },
  {
   "cell_type": "markdown",
   "metadata": {},
   "source": [
    "## Now"
   ]
  },
  {
   "cell_type": "code",
   "execution_count": 130,
   "metadata": {
    "ExecuteTime": {
     "end_time": "2020-04-15T10:44:06.269487Z",
     "start_time": "2020-04-15T10:44:05.856399Z"
    }
   },
   "outputs": [
    {
     "name": "stderr",
     "output_type": "stream",
     "text": [
      "/home/lpresbitero/.conda/envs/geo/lib/python3.7/site-packages/ipykernel_launcher.py:8: SettingWithCopyWarning: \n",
      "A value is trying to be set on a copy of a slice from a DataFrame.\n",
      "Try using .loc[row_indexer,col_indexer] = value instead\n",
      "\n",
      "See the caveats in the documentation: https://pandas.pydata.org/pandas-docs/stable/user_guide/indexing.html#returning-a-view-versus-a-copy\n",
      "  \n",
      "/home/lpresbitero/.conda/envs/geo/lib/python3.7/site-packages/ipykernel_launcher.py:9: SettingWithCopyWarning: \n",
      "A value is trying to be set on a copy of a slice from a DataFrame.\n",
      "Try using .loc[row_indexer,col_indexer] = value instead\n",
      "\n",
      "See the caveats in the documentation: https://pandas.pydata.org/pandas-docs/stable/user_guide/indexing.html#returning-a-view-versus-a-copy\n",
      "  if __name__ == '__main__':\n",
      "/home/lpresbitero/.conda/envs/geo/lib/python3.7/site-packages/geopandas/tools/sjoin.py:61: UserWarning: CRS of frames being joined does not match!(epsg:4326 != None)\n",
      "  \"(%s != %s)\" % (left_df.crs, right_df.crs)\n"
     ]
    },
    {
     "data": {
      "text/plain": [
       "array(['Manabo', 'Sallapadan', 'Altavas', 'Kalibo', 'Libacao', 'Malay',\n",
       "       'Legazpi City', 'Balanga City', 'Limay', 'Mariveles', 'Orani',\n",
       "       'Orion', 'Samal', 'Batangas City', 'Lemery', 'Lipa City', 'Lobo',\n",
       "       'Nasugbu', 'Padre Garcia', 'San Pascual', 'Tanauan City',\n",
       "       'Baguio City', 'La Trinidad', 'Baliuag', 'Bocaue', 'Bulacan',\n",
       "       'Calumpit', 'Guiguinto', 'Malolos City', 'Marilao', 'Pulilan',\n",
       "       'San Ildefonso', 'San Jose del Monte City', 'San Miguel',\n",
       "       'Santa Maria', 'Gattaran', 'Piat', 'Tuao', 'Tuguegarao City',\n",
       "       'Libmanan', 'Naga City', 'Pasacao', 'Jamindan', 'Mambusao',\n",
       "       'Roxas City', 'Bacoor', 'Carmona', 'Cavite City', 'Dasmariñas',\n",
       "       'General Mariano Alvarez', 'General Trias', 'Imus', 'Indang',\n",
       "       'Kawit', 'Mendez', 'Naic', 'Rosario', 'Silang', 'Tanza', 'Ternate',\n",
       "       'Cebu City', 'Lapu-Lapu City', 'Liloan', 'Mandaue City',\n",
       "       'Talisay City', 'Pantukan', 'Panabo City', 'Tagum City',\n",
       "       'Davao City', 'Digos City', 'Matanao', 'Mati City', 'Hernani',\n",
       "       'Barotac Nuevo', 'Guimbal', 'Iloilo City', 'Lambunao', 'Miagao',\n",
       "       'Alicia', 'Cabagan', 'Echague', 'Bauang', 'Burgos', 'Caba',\n",
       "       'Naguilian', 'Alaminos', 'Biñan', 'Cabuyao', 'Calamba City',\n",
       "       'Calauan', 'Los Baños', 'Pila', 'San Pedro', 'Santa Cruz',\n",
       "       'Santa Rosa City', 'Iligan City', 'Tubod', 'Bubong', 'Marantao',\n",
       "       'Marawi City', 'Cotabato City', 'Datu Odin Sinsuat', 'Mogpog',\n",
       "       'Torrijos', 'Kalookan City', 'Las Piñas', 'Makati City', 'Malabon',\n",
       "       'Mandaluyong', 'Manila', 'Marikina', 'Muntinlupa', 'Navotas',\n",
       "       'Parañaque', 'Pasay City', 'Pasig City', 'Pateros', 'Quezon City',\n",
       "       'San Juan', 'Taguig', 'Valenzuela', 'Jimenez',\n",
       "       'Cagayan de Oro City', 'Bacolod City', 'Enrique B. Magalona',\n",
       "       'La Carlota City', 'Bais City', 'Dumaguete City', 'Jimalalud',\n",
       "       'Tayasan', \"M'Lang\", 'Catarman', 'Cabanatuan City', 'Gapan City',\n",
       "       'General Mamerto Natividad', 'Laur', 'Licab', 'San Antonio',\n",
       "       'San Isidro', 'Santa Rosa', 'Alfonso Castaneda', 'Bayombong',\n",
       "       'Solano', 'San Jose', 'Calapan City', 'Puerto Princesa City',\n",
       "       'Apalit', 'Bacolor', 'Candaba', 'Floridablanca', 'Guagua', 'Lubao',\n",
       "       'Mabalacat', 'Porac', 'San Simon', 'Bayambang', 'Lingayen',\n",
       "       'Malasiqui', 'San Carlos City', 'San Fabian', 'Urbiztondo',\n",
       "       'Urdaneta City', 'Candelaria', 'Lucena City', 'Sariaya',\n",
       "       'Tayabas City', 'Antipolo City', 'Binangonan', 'Cainta', 'Morong',\n",
       "       'Rodriguez', 'San Mateo', 'Taytay', 'Teresa', 'Calbayog City',\n",
       "       \"T'Boli\", 'Lambayong', 'Lutayan', 'Bamban', 'Camiling', 'Capas',\n",
       "       'Concepcion', 'Gerona', 'Paniqui', 'Tarlac City', 'Cabangan',\n",
       "       'Olongapo City', 'Dumalinao', 'Labangan', 'Pagadian City',\n",
       "       'Zamboanga City'], dtype=object)"
      ]
     },
     "execution_count": 130,
     "metadata": {},
     "output_type": "execute_result"
    }
   ],
   "source": [
    "now = df[['Residence Lat', 'Residence Long']]\n",
    "now['Residence Lat'] = now['Residence Lat'].astype(float)\n",
    "now['Residence Long'] = now['Residence Long'].apply(lambda x: x if type(x)==float else float(re.sub(r\"[,]*\", \"\", x)))\n",
    "now_gdf = gpd.GeoDataFrame(now, geometry=gpd.points_from_xy(now['Residence Long'], now['Residence Lat']))\n",
    "now_gdf_polygon = gpd.sjoin(cities_gpdf, now_gdf, how=\"inner\")\n",
    "now_grouped = now_gdf_polygon.groupby('NAME_2').size().reset_index(name=\"Cases\")\n",
    "now_merged_cases = now_gdf_polygon.merge(now_grouped, on='NAME_2',how='left')\n",
    "now_merged_cases.NAME_2.unique()\n",
    "# now_merged_cases.to_file(\"./data/now_gdf_gradient_ph.geojson\", driver='GeoJSON')"
   ]
  }
 ],
 "metadata": {
  "kernelspec": {
   "display_name": "Python [conda env:.conda-geo]",
   "language": "python",
   "name": "conda-env-.conda-geo-py"
  },
  "language_info": {
   "codemirror_mode": {
    "name": "ipython",
    "version": 3
   },
   "file_extension": ".py",
   "mimetype": "text/x-python",
   "name": "python",
   "nbconvert_exporter": "python",
   "pygments_lexer": "ipython3",
   "version": "3.7.6"
  }
 },
 "nbformat": 4,
 "nbformat_minor": 2
}
